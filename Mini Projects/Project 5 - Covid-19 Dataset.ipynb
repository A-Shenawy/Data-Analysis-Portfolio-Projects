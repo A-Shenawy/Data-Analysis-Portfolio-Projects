{
 "cells": [
  {
   "cell_type": "code",
   "execution_count": 13,
   "id": "573b15ce",
   "metadata": {},
   "outputs": [],
   "source": [
    "import pandas as pd\n",
    "import numpy as np\n",
    "import matplotlib.pyplot as plt\n",
    "import seaborn as sns\n",
    "pd.set_option('display.max_columns',None)\n",
    "pd.set_option('display.max_rows',None)"
   ]
  },
  {
   "cell_type": "code",
   "execution_count": 14,
   "id": "3db77155",
   "metadata": {},
   "outputs": [],
   "source": [
    "path = r'D:\\Other\\1-IBM Data Analysis\\(10) Data Analyst Portfolio Projects\\4- Data Analysis Projects\\Python Projects - Data Analytics\\Project - 4\\file.csv'\n",
    "df = pd.read_csv(path, header = 0)"
   ]
  },
  {
   "cell_type": "code",
   "execution_count": 15,
   "id": "686d5a2b",
   "metadata": {},
   "outputs": [
    {
     "data": {
      "text/html": [
       "<div>\n",
       "<style scoped>\n",
       "    .dataframe tbody tr th:only-of-type {\n",
       "        vertical-align: middle;\n",
       "    }\n",
       "\n",
       "    .dataframe tbody tr th {\n",
       "        vertical-align: top;\n",
       "    }\n",
       "\n",
       "    .dataframe thead th {\n",
       "        text-align: right;\n",
       "    }\n",
       "</style>\n",
       "<table border=\"1\" class=\"dataframe\">\n",
       "  <thead>\n",
       "    <tr style=\"text-align: right;\">\n",
       "      <th></th>\n",
       "      <th>Date</th>\n",
       "      <th>State</th>\n",
       "      <th>Region</th>\n",
       "      <th>Confirmed</th>\n",
       "      <th>Deaths</th>\n",
       "      <th>Recovered</th>\n",
       "    </tr>\n",
       "  </thead>\n",
       "  <tbody>\n",
       "    <tr>\n",
       "      <th>0</th>\n",
       "      <td>4/29/2020</td>\n",
       "      <td>NaN</td>\n",
       "      <td>Afghanistan</td>\n",
       "      <td>1939</td>\n",
       "      <td>60</td>\n",
       "      <td>252</td>\n",
       "    </tr>\n",
       "    <tr>\n",
       "      <th>1</th>\n",
       "      <td>4/29/2020</td>\n",
       "      <td>NaN</td>\n",
       "      <td>Albania</td>\n",
       "      <td>766</td>\n",
       "      <td>30</td>\n",
       "      <td>455</td>\n",
       "    </tr>\n",
       "    <tr>\n",
       "      <th>2</th>\n",
       "      <td>4/29/2020</td>\n",
       "      <td>NaN</td>\n",
       "      <td>Algeria</td>\n",
       "      <td>3848</td>\n",
       "      <td>444</td>\n",
       "      <td>1702</td>\n",
       "    </tr>\n",
       "    <tr>\n",
       "      <th>3</th>\n",
       "      <td>4/29/2020</td>\n",
       "      <td>NaN</td>\n",
       "      <td>Andorra</td>\n",
       "      <td>743</td>\n",
       "      <td>42</td>\n",
       "      <td>423</td>\n",
       "    </tr>\n",
       "    <tr>\n",
       "      <th>4</th>\n",
       "      <td>4/29/2020</td>\n",
       "      <td>NaN</td>\n",
       "      <td>Angola</td>\n",
       "      <td>27</td>\n",
       "      <td>2</td>\n",
       "      <td>7</td>\n",
       "    </tr>\n",
       "  </tbody>\n",
       "</table>\n",
       "</div>"
      ],
      "text/plain": [
       "        Date State       Region  Confirmed  Deaths  Recovered\n",
       "0  4/29/2020   NaN  Afghanistan       1939      60        252\n",
       "1  4/29/2020   NaN      Albania        766      30        455\n",
       "2  4/29/2020   NaN      Algeria       3848     444       1702\n",
       "3  4/29/2020   NaN      Andorra        743      42        423\n",
       "4  4/29/2020   NaN       Angola         27       2          7"
      ]
     },
     "execution_count": 15,
     "metadata": {},
     "output_type": "execute_result"
    }
   ],
   "source": [
    "df.head()"
   ]
  },
  {
   "cell_type": "code",
   "execution_count": 16,
   "id": "c8df2722",
   "metadata": {},
   "outputs": [
    {
     "data": {
      "text/plain": [
       "State\n",
       "Grand Princess                      2\n",
       "Recovered                           2\n",
       "Diamond Princess cruise ship        2\n",
       "Alabama                             1\n",
       "Oregon                              1\n",
       "Nova Scotia                         1\n",
       "Ohio                                1\n",
       "Oklahoma                            1\n",
       "Ontario                             1\n",
       "Prince Edward Island                1\n",
       "Pennsylvania                        1\n",
       "Northern Territory                  1\n",
       "Puerto Rico                         1\n",
       "Qinghai                             1\n",
       "Quebec                              1\n",
       "Queensland                          1\n",
       "Northwest Territories               1\n",
       "Northern Mariana Islands            1\n",
       "Rhode Island                        1\n",
       "New Hampshire                       1\n",
       "Montana                             1\n",
       "Montserrat                          1\n",
       "Nebraska                            1\n",
       "Nevada                              1\n",
       "New Brunswick                       1\n",
       "New Caledonia                       1\n",
       "New Jersey                          1\n",
       "North Dakota                        1\n",
       "New Mexico                          1\n",
       "New South Wales                     1\n",
       "New York                            1\n",
       "Newfoundland and Labrador           1\n",
       "Ningxia                             1\n",
       "North Carolina                      1\n",
       "Reunion                             1\n",
       "Saint Pierre and Miquelon           1\n",
       "Saint Barthelemy                    1\n",
       "Tibet                               1\n",
       "Yunnan                              1\n",
       "Yukon                               1\n",
       "Xinjiang                            1\n",
       "Wyoming                             1\n",
       "Wisconsin                           1\n",
       "Western Australia                   1\n",
       "West Virginia                       1\n",
       "Washington                          1\n",
       "Virginia                            1\n",
       "Virgin Islands                      1\n",
       "Victoria                            1\n",
       "Vermont                             1\n",
       "Utah                                1\n",
       "Turks and Caicos Islands            1\n",
       "Tianjin                             1\n",
       "Mississippi                         1\n",
       "Texas                               1\n",
       "Tennessee                           1\n",
       "Tasmania                            1\n",
       "St Martin                           1\n",
       "South Dakota                        1\n",
       "South Carolina                      1\n",
       "South Australia                     1\n",
       "Sint Maarten                        1\n",
       "Sichuan                             1\n",
       "Shanxi                              1\n",
       "Shanghai                            1\n",
       "Shandong                            1\n",
       "Shaanxi                             1\n",
       "Saskatchewan                        1\n",
       "Missouri                            1\n",
       "Michigan                            1\n",
       "Minnesota                           1\n",
       "Chongqing                           1\n",
       "Gibraltar                           1\n",
       "Georgia                             1\n",
       "Gansu                               1\n",
       "Fujian                              1\n",
       "French Polynesia                    1\n",
       "French Guiana                       1\n",
       "Florida                             1\n",
       "Faroe Islands                       1\n",
       "Falkland Islands (Malvinas)         1\n",
       "District of Columbia                1\n",
       "Delaware                            1\n",
       "Curacao                             1\n",
       "Connecticut                         1\n",
       "Colorado                            1\n",
       "Channel Islands                     1\n",
       "Guadeloupe                          1\n",
       "Cayman Islands                      1\n",
       "California                          1\n",
       "British Virgin Islands              1\n",
       "British Columbia                    1\n",
       "Bonaire, Sint Eustatius and Saba    1\n",
       "Bermuda                             1\n",
       "Beijing                             1\n",
       "Australian Capital Territory        1\n",
       "Aruba                               1\n",
       "Arkansas                            1\n",
       "Arizona                             1\n",
       "Anhui                               1\n",
       "Anguilla                            1\n",
       "Alberta                             1\n",
       "Greenland                           1\n",
       "Guam                                1\n",
       "Alaska                              1\n",
       "Isle of Man                         1\n",
       "Mayotte                             1\n",
       "Massachusetts                       1\n",
       "Maryland                            1\n",
       "Martinique                          1\n",
       "Manitoba                            1\n",
       "Maine                               1\n",
       "Macau                               1\n",
       "Louisiana                           1\n",
       "Liaoning                            1\n",
       "Kentucky                            1\n",
       "Kansas                              1\n",
       "Jilin                               1\n",
       "Jiangxi                             1\n",
       "Jiangsu                             1\n",
       "Iowa                                1\n",
       "Guangdong                           1\n",
       "Inner Mongolia                      1\n",
       "Indiana                             1\n",
       "Illinois                            1\n",
       "Idaho                               1\n",
       "Hunan                               1\n",
       "Hubei                               1\n",
       "Hong Kong                           1\n",
       "Henan                               1\n",
       "Heilongjiang                        1\n",
       "Hebei                               1\n",
       "Hawaii                              1\n",
       "Hainan                              1\n",
       "Guizhou                             1\n",
       "Guangxi                             1\n",
       "Zhejiang                            1\n",
       "Name: count, dtype: int64"
      ]
     },
     "execution_count": 16,
     "metadata": {},
     "output_type": "execute_result"
    }
   ],
   "source": [
    "df['State'].value_counts()"
   ]
  },
  {
   "cell_type": "code",
   "execution_count": 17,
   "id": "6faee4f1",
   "metadata": {},
   "outputs": [
    {
     "data": {
      "text/plain": [
       "<Axes: >"
      ]
     },
     "execution_count": 17,
     "metadata": {},
     "output_type": "execute_result"
    },
    {
     "data": {
      "image/png": "[encoded data removed]",
      "text/plain": [
       "<Figure size 640x480 with 2 Axes>"
      ]
     },
     "metadata": {},
     "output_type": "display_data"
    }
   ],
   "source": [
    "import seaborn as sns\n",
    "import matplotlib.pyplot as plt\n",
    "sns.heatmap(df.isnull())"
   ]
  },
  {
   "cell_type": "code",
   "execution_count": 77,
   "id": "65986925",
   "metadata": {},
   "outputs": [
    {
     "data": {
      "text/html": [
       "<div>\n",
       "<style scoped>\n",
       "    .dataframe tbody tr th:only-of-type {\n",
       "        vertical-align: middle;\n",
       "    }\n",
       "\n",
       "    .dataframe tbody tr th {\n",
       "        vertical-align: top;\n",
       "    }\n",
       "\n",
       "    .dataframe thead th {\n",
       "        text-align: right;\n",
       "    }\n",
       "</style>\n",
       "<table border=\"1\" class=\"dataframe\">\n",
       "  <thead>\n",
       "    <tr style=\"text-align: right;\">\n",
       "      <th></th>\n",
       "      <th>Region</th>\n",
       "      <th>Confirmed</th>\n",
       "    </tr>\n",
       "  </thead>\n",
       "  <tbody>\n",
       "    <tr>\n",
       "      <th>0</th>\n",
       "      <td>US</td>\n",
       "      <td>1039909</td>\n",
       "    </tr>\n",
       "    <tr>\n",
       "      <th>1</th>\n",
       "      <td>Spain</td>\n",
       "      <td>236899</td>\n",
       "    </tr>\n",
       "    <tr>\n",
       "      <th>2</th>\n",
       "      <td>Italy</td>\n",
       "      <td>203591</td>\n",
       "    </tr>\n",
       "    <tr>\n",
       "      <th>3</th>\n",
       "      <td>France</td>\n",
       "      <td>166543</td>\n",
       "    </tr>\n",
       "    <tr>\n",
       "      <th>4</th>\n",
       "      <td>UK</td>\n",
       "      <td>166441</td>\n",
       "    </tr>\n",
       "    <tr>\n",
       "      <th>5</th>\n",
       "      <td>Germany</td>\n",
       "      <td>161539</td>\n",
       "    </tr>\n",
       "    <tr>\n",
       "      <th>6</th>\n",
       "      <td>Turkey</td>\n",
       "      <td>117589</td>\n",
       "    </tr>\n",
       "    <tr>\n",
       "      <th>7</th>\n",
       "      <td>Russia</td>\n",
       "      <td>99399</td>\n",
       "    </tr>\n",
       "    <tr>\n",
       "      <th>8</th>\n",
       "      <td>Iran</td>\n",
       "      <td>93657</td>\n",
       "    </tr>\n",
       "    <tr>\n",
       "      <th>9</th>\n",
       "      <td>Mainland China</td>\n",
       "      <td>82862</td>\n",
       "    </tr>\n",
       "  </tbody>\n",
       "</table>\n",
       "</div>"
      ],
      "text/plain": [
       "           Region  Confirmed\n",
       "0              US    1039909\n",
       "1           Spain     236899\n",
       "2           Italy     203591\n",
       "3          France     166543\n",
       "4              UK     166441\n",
       "5         Germany     161539\n",
       "6          Turkey     117589\n",
       "7          Russia      99399\n",
       "8            Iran      93657\n",
       "9  Mainland China      82862"
      ]
     },
     "execution_count": 77,
     "metadata": {},
     "output_type": "execute_result"
    }
   ],
   "source": [
    "# Show the number of confirmed death cases  in each region\n",
    "Confirmed_df = pd.DataFrame(df.groupby('Region').Confirmed.sum().sort_values(ascending = False))\n",
    "Confirmed_df.reset_index(inplace = True)\n",
    "Confirmed_df.head(10)"
   ]
  },
  {
   "cell_type": "code",
   "execution_count": 83,
   "id": "17657ec1",
   "metadata": {},
   "outputs": [
    {
     "name": "stdout",
     "output_type": "stream",
     "text": [
      "Highset Region with Covid Confirmed Cases is : US\n",
      "Lowest Region with Covid Confirmed Cases is : Yemen\n"
     ]
    }
   ],
   "source": [
    "# Show the region with the maximum number of confirmed death cases\n",
    "print(\"Highset Region with Covid Confirmed Cases is :\", Confirmed_df.loc[0,'Region'])\n",
    "print(\"Lowest Region with Covid Confirmed Cases is :\", Confirmed_df.loc[Confirmed_df.index[-1],'Region'])"
   ]
  },
  {
   "cell_type": "code",
   "execution_count": 31,
   "id": "c808ac5a",
   "metadata": {},
   "outputs": [
    {
     "data": {
      "text/html": [
       "<div>\n",
       "<style scoped>\n",
       "    .dataframe tbody tr th:only-of-type {\n",
       "        vertical-align: middle;\n",
       "    }\n",
       "\n",
       "    .dataframe tbody tr th {\n",
       "        vertical-align: top;\n",
       "    }\n",
       "\n",
       "    .dataframe thead th {\n",
       "        text-align: right;\n",
       "    }\n",
       "</style>\n",
       "<table border=\"1\" class=\"dataframe\">\n",
       "  <thead>\n",
       "    <tr style=\"text-align: right;\">\n",
       "      <th></th>\n",
       "      <th>Deaths</th>\n",
       "    </tr>\n",
       "    <tr>\n",
       "      <th>Region</th>\n",
       "      <th></th>\n",
       "    </tr>\n",
       "  </thead>\n",
       "  <tbody>\n",
       "    <tr>\n",
       "      <th>US</th>\n",
       "      <td>60967</td>\n",
       "    </tr>\n",
       "    <tr>\n",
       "      <th>Italy</th>\n",
       "      <td>27682</td>\n",
       "    </tr>\n",
       "    <tr>\n",
       "      <th>UK</th>\n",
       "      <td>26166</td>\n",
       "    </tr>\n",
       "    <tr>\n",
       "      <th>Spain</th>\n",
       "      <td>24275</td>\n",
       "    </tr>\n",
       "    <tr>\n",
       "      <th>France</th>\n",
       "      <td>24121</td>\n",
       "    </tr>\n",
       "    <tr>\n",
       "      <th>Belgium</th>\n",
       "      <td>7501</td>\n",
       "    </tr>\n",
       "    <tr>\n",
       "      <th>Germany</th>\n",
       "      <td>6467</td>\n",
       "    </tr>\n",
       "    <tr>\n",
       "      <th>Iran</th>\n",
       "      <td>5957</td>\n",
       "    </tr>\n",
       "    <tr>\n",
       "      <th>Brazil</th>\n",
       "      <td>5513</td>\n",
       "    </tr>\n",
       "    <tr>\n",
       "      <th>Netherlands</th>\n",
       "      <td>4727</td>\n",
       "    </tr>\n",
       "  </tbody>\n",
       "</table>\n",
       "</div>"
      ],
      "text/plain": [
       "             Deaths\n",
       "Region             \n",
       "US            60967\n",
       "Italy         27682\n",
       "UK            26166\n",
       "Spain         24275\n",
       "France        24121\n",
       "Belgium        7501\n",
       "Germany        6467\n",
       "Iran           5957\n",
       "Brazil         5513\n",
       "Netherlands    4727"
      ]
     },
     "execution_count": 31,
     "metadata": {},
     "output_type": "execute_result"
    }
   ],
   "source": [
    "# Show the number of confirmed death cases in each region\n",
    "Deaths_df = pd.DataFrame(df.groupby('Region').Deaths.sum().sort_values(ascending = False))\n",
    "Deaths_df.head(10)"
   ]
  },
  {
   "cell_type": "code",
   "execution_count": 38,
   "id": "36d8fff3",
   "metadata": {},
   "outputs": [
    {
     "data": {
      "text/html": [
       "<div>\n",
       "<style scoped>\n",
       "    .dataframe tbody tr th:only-of-type {\n",
       "        vertical-align: middle;\n",
       "    }\n",
       "\n",
       "    .dataframe tbody tr th {\n",
       "        vertical-align: top;\n",
       "    }\n",
       "\n",
       "    .dataframe thead th {\n",
       "        text-align: right;\n",
       "    }\n",
       "</style>\n",
       "<table border=\"1\" class=\"dataframe\">\n",
       "  <thead>\n",
       "    <tr style=\"text-align: right;\">\n",
       "      <th></th>\n",
       "      <th>Recovered</th>\n",
       "      <th>Confirmed</th>\n",
       "    </tr>\n",
       "    <tr>\n",
       "      <th>Region</th>\n",
       "      <th></th>\n",
       "      <th></th>\n",
       "    </tr>\n",
       "  </thead>\n",
       "  <tbody>\n",
       "    <tr>\n",
       "      <th>Spain</th>\n",
       "      <td>132929</td>\n",
       "      <td>236899</td>\n",
       "    </tr>\n",
       "    <tr>\n",
       "      <th>US</th>\n",
       "      <td>120720</td>\n",
       "      <td>1039909</td>\n",
       "    </tr>\n",
       "    <tr>\n",
       "      <th>Germany</th>\n",
       "      <td>120400</td>\n",
       "      <td>161539</td>\n",
       "    </tr>\n",
       "    <tr>\n",
       "      <th>Mainland China</th>\n",
       "      <td>77610</td>\n",
       "      <td>82862</td>\n",
       "    </tr>\n",
       "    <tr>\n",
       "      <th>Iran</th>\n",
       "      <td>73791</td>\n",
       "      <td>93657</td>\n",
       "    </tr>\n",
       "    <tr>\n",
       "      <th>Italy</th>\n",
       "      <td>71252</td>\n",
       "      <td>203591</td>\n",
       "    </tr>\n",
       "    <tr>\n",
       "      <th>France</th>\n",
       "      <td>49118</td>\n",
       "      <td>166543</td>\n",
       "    </tr>\n",
       "    <tr>\n",
       "      <th>Turkey</th>\n",
       "      <td>44040</td>\n",
       "      <td>117589</td>\n",
       "    </tr>\n",
       "    <tr>\n",
       "      <th>Brazil</th>\n",
       "      <td>34132</td>\n",
       "      <td>79685</td>\n",
       "    </tr>\n",
       "    <tr>\n",
       "      <th>Switzerland</th>\n",
       "      <td>22600</td>\n",
       "      <td>29407</td>\n",
       "    </tr>\n",
       "  </tbody>\n",
       "</table>\n",
       "</div>"
      ],
      "text/plain": [
       "                Recovered  Confirmed\n",
       "Region                              \n",
       "Spain              132929     236899\n",
       "US                 120720    1039909\n",
       "Germany            120400     161539\n",
       "Mainland China      77610      82862\n",
       "Iran                73791      93657\n",
       "Italy               71252     203591\n",
       "France              49118     166543\n",
       "Turkey              44040     117589\n",
       "Brazil              34132      79685\n",
       "Switzerland         22600      29407"
      ]
     },
     "execution_count": 38,
     "metadata": {},
     "output_type": "execute_result"
    }
   ],
   "source": [
    "# Show the number of confirmed death cases in each region\n",
    "Recovered_df = pd.DataFrame(df.groupby('Region')[['Recovered','Confirmed']].sum().sort_values(by = 'Recovered',ascending = False))\n",
    "Recovered_df.head(10)"
   ]
  },
  {
   "cell_type": "markdown",
   "id": "5e1c775d",
   "metadata": {},
   "source": [
    "## a. finding the blancks"
   ]
  },
  {
   "cell_type": "code",
   "execution_count": 6,
   "id": "e10763cf",
   "metadata": {},
   "outputs": [
    {
     "data": {
      "text/plain": [
       "Date           0\n",
       "State        181\n",
       "Region         0\n",
       "Confirmed      0\n",
       "Deaths         0\n",
       "Recovered      0\n",
       "dtype: int64"
      ]
     },
     "execution_count": 6,
     "metadata": {},
     "output_type": "execute_result"
    }
   ],
   "source": [
    "df.isnull().sum()"
   ]
  },
  {
   "cell_type": "code",
   "execution_count": 7,
   "id": "df22abdd",
   "metadata": {},
   "outputs": [
    {
     "data": {
      "text/plain": [
       "(321, 6)"
      ]
     },
     "execution_count": 7,
     "metadata": {},
     "output_type": "execute_result"
    }
   ],
   "source": [
    "df.shape"
   ]
  },
  {
   "cell_type": "code",
   "execution_count": 11,
   "id": "8c0861ab",
   "metadata": {},
   "outputs": [],
   "source": [
    "#df.drop('State', axis = 1, inplace = True)"
   ]
  },
  {
   "cell_type": "code",
   "execution_count": 60,
   "id": "6ee6b123",
   "metadata": {},
   "outputs": [
    {
     "data": {
      "text/plain": [
       "(304, 6)"
      ]
     },
     "execution_count": 60,
     "metadata": {},
     "output_type": "execute_result"
    }
   ],
   "source": [
    "# get the records with confirmed cases biggher than 10\n",
    "df_filtered1 = df[~(df['Confirmed'] < 10)]\n",
    "df_filtered1['Confirmed'].value_counts()\n",
    "df_filtered1.shape"
   ]
  },
  {
   "cell_type": "code",
   "execution_count": 84,
   "id": "8f37e916",
   "metadata": {},
   "outputs": [
    {
     "name": "stdout",
     "output_type": "stream",
     "text": [
      "<class 'pandas.core.frame.DataFrame'>\n",
      "RangeIndex: 321 entries, 0 to 320\n",
      "Data columns (total 6 columns):\n",
      " #   Column     Non-Null Count  Dtype \n",
      "---  ------     --------------  ----- \n",
      " 0   Date       321 non-null    object\n",
      " 1   State      140 non-null    object\n",
      " 2   Region     321 non-null    object\n",
      " 3   Confirmed  321 non-null    int64 \n",
      " 4   Deaths     321 non-null    int64 \n",
      " 5   Recovered  321 non-null    int64 \n",
      "dtypes: int64(3), object(3)\n",
      "memory usage: 15.2+ KB\n"
     ]
    }
   ],
   "source": [
    "df.info()"
   ]
  },
  {
   "cell_type": "code",
   "execution_count": 85,
   "id": "ef545c90",
   "metadata": {},
   "outputs": [],
   "source": [
    "df['Date_edited'] = pd.to_datetime(df['Date'])"
   ]
  },
  {
   "cell_type": "code",
   "execution_count": 98,
   "id": "a48c77a5",
   "metadata": {},
   "outputs": [
    {
     "data": {
      "text/html": [
       "<div>\n",
       "<style scoped>\n",
       "    .dataframe tbody tr th:only-of-type {\n",
       "        vertical-align: middle;\n",
       "    }\n",
       "\n",
       "    .dataframe tbody tr th {\n",
       "        vertical-align: top;\n",
       "    }\n",
       "\n",
       "    .dataframe thead th {\n",
       "        text-align: right;\n",
       "    }\n",
       "</style>\n",
       "<table border=\"1\" class=\"dataframe\">\n",
       "  <thead>\n",
       "    <tr style=\"text-align: right;\">\n",
       "      <th></th>\n",
       "      <th>Date</th>\n",
       "      <th>State</th>\n",
       "      <th>Region</th>\n",
       "      <th>Confirmed</th>\n",
       "      <th>Deaths</th>\n",
       "      <th>Recovered</th>\n",
       "      <th>Date_edited</th>\n",
       "    </tr>\n",
       "  </thead>\n",
       "  <tbody>\n",
       "    <tr>\n",
       "      <th>74</th>\n",
       "      <td>4/29/2020</td>\n",
       "      <td>NaN</td>\n",
       "      <td>India</td>\n",
       "      <td>33062</td>\n",
       "      <td>1079</td>\n",
       "      <td>8437</td>\n",
       "      <td>2020-04-29</td>\n",
       "    </tr>\n",
       "  </tbody>\n",
       "</table>\n",
       "</div>"
      ],
      "text/plain": [
       "         Date State Region  Confirmed  Deaths  Recovered Date_edited\n",
       "74  4/29/2020   NaN  India      33062    1079       8437  2020-04-29"
      ]
     },
     "execution_count": 98,
     "metadata": {},
     "output_type": "execute_result"
    }
   ],
   "source": [
    "df[df['Region'] == 'India']"
   ]
  },
  {
   "cell_type": "code",
   "execution_count": 100,
   "id": "4c9c7519",
   "metadata": {},
   "outputs": [],
   "source": [
    "sorted_df1 = df.sort_values(by ='Confirmed')"
   ]
  },
  {
   "cell_type": "code",
   "execution_count": 101,
   "id": "e2ae19a0",
   "metadata": {},
   "outputs": [],
   "source": [
    "sorted_df2 = df.sort_values(by ='Recovered', ascending = False)"
   ]
  }
 ],
 "metadata": {
  "kernelspec": {
   "display_name": "Python 3 (ipykernel)",
   "language": "python",
   "name": "python3"
  },
  "language_info": {
   "codemirror_mode": {
    "name": "ipython",
    "version": 3
   },
   "file_extension": ".py",
   "mimetype": "text/x-python",
   "name": "python",
   "nbconvert_exporter": "python",
   "pygments_lexer": "ipython3",
   "version": "3.11.5"
  }
 },
 "nbformat": 4,
 "nbformat_minor": 5
}
